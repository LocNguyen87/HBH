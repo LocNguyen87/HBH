{
 "cells": [
  {
   "cell_type": "code",
   "execution_count": 1,
   "id": "96625535",
   "metadata": {},
   "outputs": [],
   "source": [
    "import turtle\n",
    "\n",
    "# khai báo tọa độ 3 điểm\n",
    "a1 = -100/3\n",
    "a2 = 300/3\n",
    "b1 = 200/3\n",
    "b2 = -200/3\n",
    "c1 = -400/3\n",
    "c2 = 500/3\n",
    "\n",
    "# tọa độ trục ab\n",
    "ab1 = b1 - a1\n",
    "ab2 = b2 - a2\n",
    "\n",
    "# tọa độ trục dc\n",
    "# dc1 = c1 - d1 = b1 - a1\n",
    "# dc2 = c2 - d2 = b2 - a2\n",
    "\n",
    "# tính tọa độ điểm d\n",
    "d1 = c1 - (b1 - a1)\n",
    "d2 = c2 - (b2 - a2)\n",
    "\n",
    "# vẽ\n",
    "t = turtle.Turtle()\n",
    "t.shape('turtle')\n",
    "t.penup()\n",
    "t.pensize(1)\n",
    "t.goto(a1, a2)\n",
    "t.pendown()\n",
    "t.fillcolor('green')\n",
    "t.begin_fill()\n",
    "t.circle(5)\n",
    "t.end_fill()\n",
    "t.goto(b1, b2)\n",
    "t.begin_fill()\n",
    "t.circle(5)\n",
    "t.end_fill()\n",
    "t.goto(c1, c2)\n",
    "t.begin_fill()\n",
    "t.circle(5)\n",
    "t.end_fill()\n",
    "t.goto(d1, d2)\n",
    "t.fillcolor('blue')\n",
    "t.begin_fill()\n",
    "t.circle(5)\n",
    "t.end_fill()\n",
    "t.goto(a1, a2)\n",
    "t.fillcolor('green')\n",
    "t.begin_fill()\n",
    "t.circle(5)\n",
    "t.end_fill()\n",
    "t.penup()\n",
    "t.hideturtle()\n",
    "turtle.done()"
   ]
  }
 ],
 "metadata": {
  "kernelspec": {
   "display_name": "Python 3 (ipykernel)",
   "language": "python",
   "name": "python3"
  },
  "language_info": {
   "codemirror_mode": {
    "name": "ipython",
    "version": 3
   },
   "file_extension": ".py",
   "mimetype": "text/x-python",
   "name": "python",
   "nbconvert_exporter": "python",
   "pygments_lexer": "ipython3",
   "version": "3.9.12"
  }
 },
 "nbformat": 4,
 "nbformat_minor": 5
}
